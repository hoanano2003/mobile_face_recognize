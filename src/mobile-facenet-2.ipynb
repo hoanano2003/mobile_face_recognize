{
 "cells": [
  {
   "cell_type": "code",
   "execution_count": 1,
   "id": "01f131c6",
   "metadata": {
    "_cell_guid": "b1076dfc-b9ad-4769-8c92-a6c4dae69d19",
    "_uuid": "8f2839f25d086af736a60e9eeb907d3b93b6e0e5",
    "execution": {
     "iopub.execute_input": "2025-06-01T17:05:44.389329Z",
     "iopub.status.busy": "2025-06-01T17:05:44.388535Z",
     "iopub.status.idle": "2025-06-01T17:05:53.752475Z",
     "shell.execute_reply": "2025-06-01T17:05:53.751906Z"
    },
    "papermill": {
     "duration": 9.369537,
     "end_time": "2025-06-01T17:05:53.753805",
     "exception": false,
     "start_time": "2025-06-01T17:05:44.384268",
     "status": "completed"
    },
    "tags": []
   },
   "outputs": [],
   "source": [
    "import torch\n",
    "import torch.nn as nn\n",
    "import torch.nn.functional as F\n",
    "from torchvision import datasets, transforms\n",
    "from torch.utils.data import DataLoader\n",
    "import torch.optim as optim"
   ]
  },
  {
   "cell_type": "code",
   "execution_count": 2,
   "id": "25b306b5",
   "metadata": {
    "execution": {
     "iopub.execute_input": "2025-06-01T17:05:53.760351Z",
     "iopub.status.busy": "2025-06-01T17:05:53.760033Z",
     "iopub.status.idle": "2025-06-01T17:05:53.771535Z",
     "shell.execute_reply": "2025-06-01T17:05:53.770828Z"
    },
    "papermill": {
     "duration": 0.015831,
     "end_time": "2025-06-01T17:05:53.772695",
     "exception": false,
     "start_time": "2025-06-01T17:05:53.756864",
     "status": "completed"
    },
    "tags": []
   },
   "outputs": [],
   "source": [
    "#1. Định nghĩa mô hình MobileFaceNet\n",
    "\n",
    "class ConvBlock(nn.Module):\n",
    "    def __init__(self, in_c, out_c, kernel=3, stride=1, padding=1, groups=1, activation=True):\n",
    "        super().__init__()\n",
    "        self.conv = nn.Conv2d(in_c, out_c, kernel, stride, padding, groups=groups, bias=False)\n",
    "        self.bn = nn.BatchNorm2d(out_c)\n",
    "        self.prelu = nn.PReLU(out_c) if activation else nn.Identity()\n",
    "\n",
    "    def forward(self, x):\n",
    "        return self.prelu(self.bn(self.conv(x)))\n",
    "\n",
    "class LinearBlock(nn.Module):\n",
    "    def __init__(self, in_c, out_c, kernel=3, stride=1, padding=1, groups=1):\n",
    "        super().__init__()\n",
    "        self.conv = nn.Conv2d(in_c, out_c, kernel, stride, padding, groups=groups, bias=False)\n",
    "        self.bn = nn.BatchNorm2d(out_c)\n",
    "\n",
    "    def forward(self, x):\n",
    "        return self.bn(self.conv(x))\n",
    "\n",
    "class Bottleneck(nn.Module):\n",
    "    def __init__(self, in_c, out_c, stride, expansion):\n",
    "        super().__init__()\n",
    "        self.stride = stride\n",
    "        mid_c = in_c * expansion\n",
    "        self.use_res_connect = (self.stride == 1 and in_c == out_c)\n",
    "\n",
    "        self.conv = nn.Sequential(\n",
    "            ConvBlock(in_c, mid_c, kernel=1, stride=1, padding=0),\n",
    "            ConvBlock(mid_c, mid_c, kernel=3, stride=stride, padding=1, groups=mid_c),\n",
    "            LinearBlock(mid_c, out_c, kernel=1, stride=1, padding=0)\n",
    "        )\n",
    "\n",
    "    def forward(self, x):\n",
    "        out = self.conv(x)\n",
    "        if self.use_res_connect:\n",
    "            return x + out\n",
    "        else:\n",
    "            return out\n",
    "\n",
    "class GlobalDepthwiseConv(nn.Module):\n",
    "    def __init__(self, in_c):\n",
    "        super().__init__()\n",
    "        self.gdconv = nn.Conv2d(in_c, in_c, kernel_size=7, groups=in_c, bias=False)\n",
    "        self.bn = nn.BatchNorm2d(in_c)\n",
    "\n",
    "    def forward(self, x):\n",
    "        x = self.gdconv(x)\n",
    "        x = self.bn(x)\n",
    "        return x\n",
    "\n",
    "class MobileFaceNet(nn.Module):\n",
    "    def __init__(self, embedding_size=512):\n",
    "        super().__init__()\n",
    "        self.conv1 = ConvBlock(3, 64, kernel=3, stride=2, padding=1)  # 112->56\n",
    "        self.bottlenecks = nn.Sequential(\n",
    "            Bottleneck(64, 64, 1, 2),\n",
    "            Bottleneck(64, 64, 2, 2),  # 56->28\n",
    "            Bottleneck(64, 128, 1, 4),\n",
    "            Bottleneck(128, 128, 2, 2),  # 28->14\n",
    "            Bottleneck(128, 128, 1, 4),\n",
    "            Bottleneck(128, 128, 2, 2),  # 14->7\n",
    "            Bottleneck(128, 128, 1, 4)\n",
    "        )\n",
    "        self.conv2 = ConvBlock(128, 512, kernel=1, stride=1, padding=0)\n",
    "        self.gdconv = GlobalDepthwiseConv(512)\n",
    "        self.linear = nn.Conv2d(512, embedding_size, kernel_size=1, bias=False)\n",
    "        self.bn = nn.BatchNorm1d(embedding_size)\n",
    "\n",
    "    def forward(self, x):\n",
    "        x = self.conv1(x)\n",
    "        x = self.bottlenecks(x)\n",
    "        x = self.conv2(x)\n",
    "        x = self.gdconv(x)\n",
    "        x = self.linear(x)\n",
    "        x = x.view(x.size(0), -1)\n",
    "        x = self.bn(x)\n",
    "        return F.normalize(x)\n"
   ]
  },
  {
   "cell_type": "code",
   "execution_count": 3,
   "id": "311bf818",
   "metadata": {
    "execution": {
     "iopub.execute_input": "2025-06-01T17:05:53.778443Z",
     "iopub.status.busy": "2025-06-01T17:05:53.778087Z",
     "iopub.status.idle": "2025-06-01T17:06:03.959523Z",
     "shell.execute_reply": "2025-06-01T17:06:03.958749Z"
    },
    "papermill": {
     "duration": 10.18551,
     "end_time": "2025-06-01T17:06:03.960706",
     "exception": false,
     "start_time": "2025-06-01T17:05:53.775196",
     "status": "completed"
    },
    "tags": []
   },
   "outputs": [
    {
     "name": "stdout",
     "output_type": "stream",
     "text": [
      "Số lượng lớp: 991\n"
     ]
    }
   ],
   "source": [
    "# 2. Chuẩn bị dữ liệu\n",
    "\n",
    "transform_train = transforms.Compose([\n",
    "    transforms.Resize((112,112)),\n",
    "    transforms.RandomHorizontalFlip(),\n",
    "    transforms.ToTensor(),\n",
    "    transforms.Normalize([0.5,0.5,0.5],[0.5,0.5,0.5])\n",
    "])\n",
    "\n",
    "# Thay 'dataset/train' bằng đường dẫn tới thư mục dữ liệu của bạn\n",
    "train_dataset = datasets.ImageFolder(root='/kaggle/input/vnface-traindata/train_data', transform=transform_train)\n",
    "train_loader = DataLoader(train_dataset, batch_size=64, shuffle=True, num_workers=4)\n",
    "\n",
    "print(f\"Số lượng lớp: {len(train_dataset.classes)}\")\n"
   ]
  },
  {
   "cell_type": "code",
   "execution_count": 4,
   "id": "0e25a818",
   "metadata": {
    "execution": {
     "iopub.execute_input": "2025-06-01T17:06:03.967072Z",
     "iopub.status.busy": "2025-06-01T17:06:03.966648Z",
     "iopub.status.idle": "2025-06-01T17:06:04.525635Z",
     "shell.execute_reply": "2025-06-01T17:06:04.524761Z"
    },
    "papermill": {
     "duration": 0.563267,
     "end_time": "2025-06-01T17:06:04.526825",
     "exception": false,
     "start_time": "2025-06-01T17:06:03.963558",
     "status": "completed"
    },
    "tags": []
   },
   "outputs": [
    {
     "name": "stdout",
     "output_type": "stream",
     "text": [
      "Số lượng lớp val: 150\n"
     ]
    }
   ],
   "source": [
    "transform_val = transforms.Compose([\n",
    "    transforms.Resize((112, 112)),\n",
    "    transforms.ToTensor(),\n",
    "    transforms.Normalize([0.5, 0.5, 0.5], [0.5, 0.5, 0.5])\n",
    "])\n",
    "\n",
    "val_dataset = datasets.ImageFolder(root='/kaggle/input/val-data/val', transform=transform_val)\n",
    "val_loader = DataLoader(val_dataset, batch_size=64, shuffle=False, num_workers=4)\n",
    "\n",
    "print(f\"Số lượng lớp val: {len(val_dataset.classes)}\")"
   ]
  },
  {
   "cell_type": "code",
   "execution_count": 5,
   "id": "59b0a219",
   "metadata": {
    "execution": {
     "iopub.execute_input": "2025-06-01T17:06:04.533092Z",
     "iopub.status.busy": "2025-06-01T17:06:04.532844Z",
     "iopub.status.idle": "2025-06-01T17:06:04.538592Z",
     "shell.execute_reply": "2025-06-01T17:06:04.537915Z"
    },
    "papermill": {
     "duration": 0.010133,
     "end_time": "2025-06-01T17:06:04.539794",
     "exception": false,
     "start_time": "2025-06-01T17:06:04.529661",
     "status": "completed"
    },
    "tags": []
   },
   "outputs": [],
   "source": [
    "class ArcFaceLoss(nn.Module):\n",
    "    def __init__(self, embedding_size, classnum, s=64.0, m=0.5):\n",
    "        super().__init__()\n",
    "        self.classnum = classnum\n",
    "        self.s = s\n",
    "        self.m = m\n",
    "        self.weight = nn.Parameter(torch.FloatTensor(classnum, embedding_size))\n",
    "        nn.init.xavier_uniform_(self.weight)\n",
    "\n",
    "    def forward(self, embeddings, labels):\n",
    "        weight_norm = F.normalize(self.weight)\n",
    "        cosine = F.linear(F.normalize(embeddings), weight_norm)\n",
    "        theta = torch.acos(torch.clamp(cosine, -1.0+1e-7, 1.0-1e-7))\n",
    "        target_logits = torch.cos(theta + self.m)\n",
    "        one_hot = torch.zeros_like(cosine)\n",
    "        one_hot.scatter_(1, labels.view(-1,1), 1.0)\n",
    "        output = cosine * (1 - one_hot) + target_logits * one_hot\n",
    "        output *= self.s\n",
    "        loss = F.cross_entropy(output, labels)\n",
    "        return loss"
   ]
  },
  {
   "cell_type": "code",
   "execution_count": 6,
   "id": "0920df18",
   "metadata": {
    "execution": {
     "iopub.execute_input": "2025-06-01T17:06:04.546142Z",
     "iopub.status.busy": "2025-06-01T17:06:04.545576Z",
     "iopub.status.idle": "2025-06-01T17:06:04.548667Z",
     "shell.execute_reply": "2025-06-01T17:06:04.548191Z"
    },
    "papermill": {
     "duration": 0.00723,
     "end_time": "2025-06-01T17:06:04.549708",
     "exception": false,
     "start_time": "2025-06-01T17:06:04.542478",
     "status": "completed"
    },
    "tags": []
   },
   "outputs": [],
   "source": [
    "history = {\n",
    "    'train_loss': [],\n",
    "    'train_acc': []\n",
    "}"
   ]
  },
  {
   "cell_type": "code",
   "execution_count": 7,
   "id": "5d31f196",
   "metadata": {
    "execution": {
     "iopub.execute_input": "2025-06-01T17:06:04.555575Z",
     "iopub.status.busy": "2025-06-01T17:06:04.555175Z",
     "iopub.status.idle": "2025-06-01T17:06:04.803319Z",
     "shell.execute_reply": "2025-06-01T17:06:04.802755Z"
    },
    "papermill": {
     "duration": 0.252468,
     "end_time": "2025-06-01T17:06:04.804665",
     "exception": false,
     "start_time": "2025-06-01T17:06:04.552197",
     "status": "completed"
    },
    "tags": []
   },
   "outputs": [],
   "source": [
    "# 4. Huấn luyện với Mixed Precision (AMP)\n",
    "\n",
    "device = torch.device('cuda' if torch.cuda.is_available() else 'cpu')\n",
    "model = MobileFaceNet(embedding_size=512).to(device)\n",
    "criterion = ArcFaceLoss(embedding_size=512, classnum=len(train_dataset.classes)).to(device)\n",
    "optimizer = optim.Adam(model.parameters(), lr=1e-3, weight_decay=5e-5)\n",
    "scaler = torch.amp.GradScaler('cuda')\n",
    "\n",
    "def train_epoch(model, dataloader, criterion, optimizer, scaler, device):\n",
    "    model.train()\n",
    "    total_loss = 0\n",
    "    correct = 0\n",
    "    total = 0\n",
    "    for imgs, labels in dataloader:\n",
    "        imgs, labels = imgs.to(device), labels.to(device)\n",
    "        optimizer.zero_grad()\n",
    "        with torch.amp.autocast('cuda'):\n",
    "            embeddings = model(imgs)\n",
    "            loss = criterion(embeddings, labels)\n",
    "        scaler.scale(loss).backward()\n",
    "        scaler.step(optimizer)\n",
    "        scaler.update()\n",
    "        total_loss += loss.item()\n",
    "        # Tính accuracy\n",
    "        cos_sim = torch.matmul(F.normalize(embeddings), F.normalize(criterion.weight.t()))\n",
    "        preds = torch.argmax(cos_sim, dim=1)\n",
    "        correct += (preds == labels).sum().item()\n",
    "        total += labels.size(0)\n",
    "    avg_loss = total_loss / len(dataloader)\n",
    "    accuracy = correct / total\n",
    "    return avg_loss, accuracy\n"
   ]
  },
  {
   "cell_type": "code",
   "execution_count": 8,
   "id": "62544886",
   "metadata": {
    "execution": {
     "iopub.execute_input": "2025-06-01T17:06:04.811170Z",
     "iopub.status.busy": "2025-06-01T17:06:04.810705Z",
     "iopub.status.idle": "2025-06-01T17:06:04.816072Z",
     "shell.execute_reply": "2025-06-01T17:06:04.815352Z"
    },
    "papermill": {
     "duration": 0.009616,
     "end_time": "2025-06-01T17:06:04.817176",
     "exception": false,
     "start_time": "2025-06-01T17:06:04.807560",
     "status": "completed"
    },
    "tags": []
   },
   "outputs": [],
   "source": [
    "def validate(model, dataloader, criterion, device):\n",
    "    model.eval()\n",
    "    total_loss = 0\n",
    "    correct = 0\n",
    "    total = 0\n",
    "    with torch.no_grad():\n",
    "        for imgs, labels in dataloader:\n",
    "            imgs, labels = imgs.to(device), labels.to(device)\n",
    "            with torch.amp.autocast('cuda'):\n",
    "                embeddings = model(imgs)\n",
    "                loss = criterion(embeddings, labels)\n",
    "            total_loss += loss.item()\n",
    "            cos_sim = torch.matmul(F.normalize(embeddings), F.normalize(criterion.weight.t()))\n",
    "            preds = torch.argmax(cos_sim, dim=1)\n",
    "            correct += (preds == labels).sum().item()\n",
    "            total += labels.size(0)\n",
    "    avg_loss = total_loss / len(dataloader)\n",
    "    accuracy = correct / total\n",
    "    return avg_loss, accuracy\n"
   ]
  },
  {
   "cell_type": "code",
   "execution_count": 9,
   "id": "b1721ef0",
   "metadata": {
    "execution": {
     "iopub.execute_input": "2025-06-01T17:06:04.824135Z",
     "iopub.status.busy": "2025-06-01T17:06:04.823919Z",
     "iopub.status.idle": "2025-06-01T17:49:25.043783Z",
     "shell.execute_reply": "2025-06-01T17:49:25.042916Z"
    },
    "papermill": {
     "duration": 2600.229451,
     "end_time": "2025-06-01T17:49:25.050256",
     "exception": false,
     "start_time": "2025-06-01T17:06:04.820805",
     "status": "completed"
    },
    "tags": []
   },
   "outputs": [
    {
     "name": "stdout",
     "output_type": "stream",
     "text": [
      "Epoch 1/100, Train Loss: 38.3621, Train Acc: 0.0276, Val Loss: 39.4539, Val Acc: 0.0014\n",
      "Epoch 2/100, Train Loss: 36.5642, Train Acc: 0.1045, Val Loss: 39.9038, Val Acc: 0.0028\n",
      "Epoch 3/100, Train Loss: 35.6395, Train Acc: 0.1992, Val Loss: 40.2940, Val Acc: 0.0007\n",
      "Epoch 4/100, Train Loss: 34.7629, Train Acc: 0.2841, Val Loss: 40.7911, Val Acc: 0.0000\n",
      "Epoch 5/100, Train Loss: 33.9340, Train Acc: 0.3605, Val Loss: 40.9364, Val Acc: 0.0007\n",
      "Epoch 6/100, Train Loss: 33.1082, Train Acc: 0.4253, Val Loss: 41.6155, Val Acc: 0.0014\n",
      "Epoch 7/100, Train Loss: 32.2775, Train Acc: 0.4887, Val Loss: 41.9005, Val Acc: 0.0007\n",
      "Epoch 8/100, Train Loss: 31.4422, Train Acc: 0.5363, Val Loss: 42.1648, Val Acc: 0.0000\n",
      "Epoch 9/100, Train Loss: 30.6355, Train Acc: 0.5801, Val Loss: 42.6665, Val Acc: 0.0014\n",
      "Epoch 10/100, Train Loss: 29.8046, Train Acc: 0.6209, Val Loss: 42.8477, Val Acc: 0.0007\n",
      "Epoch 11/100, Train Loss: 29.0445, Train Acc: 0.6560, Val Loss: 42.9933, Val Acc: 0.0007\n",
      "Epoch 12/100, Train Loss: 28.3111, Train Acc: 0.6846, Val Loss: 43.5202, Val Acc: 0.0007\n",
      "Epoch 13/100, Train Loss: 26.5423, Train Acc: 0.7623, Val Loss: 43.6649, Val Acc: 0.0007\n",
      "Epoch 14/100, Train Loss: 25.7605, Train Acc: 0.7903, Val Loss: 43.7909, Val Acc: 0.0021\n",
      "Epoch 15/100, Train Loss: 25.2379, Train Acc: 0.8049, Val Loss: 43.8969, Val Acc: 0.0007\n",
      "Epoch 16/100, Train Loss: 24.8011, Train Acc: 0.8189, Val Loss: 43.8673, Val Acc: 0.0007\n",
      "Epoch 17/100, Train Loss: 24.3781, Train Acc: 0.8254, Val Loss: 44.1043, Val Acc: 0.0021\n",
      "Epoch 18/100, Train Loss: 23.9731, Train Acc: 0.8384, Val Loss: 44.3365, Val Acc: 0.0014\n",
      "Epoch 19/100, Train Loss: 23.5923, Train Acc: 0.8479, Val Loss: 44.3975, Val Acc: 0.0021\n",
      "Epoch 20/100, Train Loss: 23.2601, Train Acc: 0.8531, Val Loss: 44.5040, Val Acc: 0.0021\n",
      "Epoch 21/100, Train Loss: 22.9556, Train Acc: 0.8598, Val Loss: 44.4474, Val Acc: 0.0042\n",
      "Epoch 22/100, Train Loss: 22.6240, Train Acc: 0.8658, Val Loss: 44.7383, Val Acc: 0.0028\n",
      "Epoch 23/100, Train Loss: 22.3320, Train Acc: 0.8721, Val Loss: 44.7066, Val Acc: 0.0028\n",
      "Epoch 24/100, Train Loss: 21.2534, Train Acc: 0.8987, Val Loss: 44.8833, Val Acc: 0.0021\n",
      "Epoch 25/100, Train Loss: 20.9047, Train Acc: 0.9044, Val Loss: 44.8486, Val Acc: 0.0035\n",
      "Epoch 26/100, Train Loss: 20.7059, Train Acc: 0.9081, Val Loss: 44.8933, Val Acc: 0.0035\n",
      "Epoch 27/100, Train Loss: 20.4961, Train Acc: 0.9130, Val Loss: 44.9697, Val Acc: 0.0021\n",
      "Epoch 28/100, Train Loss: 20.3130, Train Acc: 0.9151, Val Loss: 45.0203, Val Acc: 0.0021\n",
      "Epoch 29/100, Train Loss: 20.1664, Train Acc: 0.9172, Val Loss: 45.0051, Val Acc: 0.0021\n",
      "Epoch 30/100, Train Loss: 20.0197, Train Acc: 0.9167, Val Loss: 45.0875, Val Acc: 0.0035\n",
      "Epoch 31/100, Train Loss: 19.8499, Train Acc: 0.9202, Val Loss: 45.1112, Val Acc: 0.0035\n",
      "Epoch 32/100, Train Loss: 19.7168, Train Acc: 0.9233, Val Loss: 45.3065, Val Acc: 0.0014\n",
      "Epoch 33/100, Train Loss: 19.5686, Train Acc: 0.9246, Val Loss: 45.2254, Val Acc: 0.0035\n",
      "Epoch 34/100, Train Loss: 19.4245, Train Acc: 0.9274, Val Loss: 45.2347, Val Acc: 0.0028\n",
      "Epoch 35/100, Train Loss: 18.8205, Train Acc: 0.9379, Val Loss: 45.3251, Val Acc: 0.0028\n",
      "Epoch 36/100, Train Loss: 18.7100, Train Acc: 0.9377, Val Loss: 45.3328, Val Acc: 0.0014\n",
      "Epoch 37/100, Train Loss: 18.5817, Train Acc: 0.9417, Val Loss: 45.3489, Val Acc: 0.0028\n",
      "Epoch 38/100, Train Loss: 18.5086, Train Acc: 0.9430, Val Loss: 45.4328, Val Acc: 0.0021\n",
      "Epoch 39/100, Train Loss: 18.4217, Train Acc: 0.9440, Val Loss: 45.4335, Val Acc: 0.0021\n",
      "Epoch 40/100, Train Loss: 18.3234, Train Acc: 0.9463, Val Loss: 45.4372, Val Acc: 0.0028\n",
      "Epoch 41/100, Train Loss: 18.2537, Train Acc: 0.9474, Val Loss: 45.4820, Val Acc: 0.0021\n",
      "Epoch 42/100, Train Loss: 18.1953, Train Acc: 0.9478, Val Loss: 45.4510, Val Acc: 0.0014\n",
      "Epoch 43/100, Train Loss: 18.0963, Train Acc: 0.9491, Val Loss: 45.4479, Val Acc: 0.0014\n",
      "Epoch 44/100, Train Loss: 18.0571, Train Acc: 0.9465, Val Loss: 45.5205, Val Acc: 0.0028\n",
      "Epoch 45/100, Train Loss: 17.9863, Train Acc: 0.9493, Val Loss: 45.5647, Val Acc: 0.0028\n",
      "Epoch 46/100, Train Loss: 17.6921, Train Acc: 0.9522, Val Loss: 45.5146, Val Acc: 0.0028\n",
      "Epoch 47/100, Train Loss: 17.6163, Train Acc: 0.9523, Val Loss: 45.5725, Val Acc: 0.0028\n",
      "Epoch 48/100, Train Loss: 17.5296, Train Acc: 0.9549, Val Loss: 45.5296, Val Acc: 0.0021\n",
      "Epoch 49/100, Train Loss: 17.5192, Train Acc: 0.9553, Val Loss: 45.5410, Val Acc: 0.0021\n",
      "Epoch 50/100, Train Loss: 17.4782, Train Acc: 0.9551, Val Loss: 45.5663, Val Acc: 0.0028\n",
      "Epoch 51/100, Train Loss: 17.4404, Train Acc: 0.9531, Val Loss: 45.5714, Val Acc: 0.0021\n",
      "Epoch 52/100, Train Loss: 17.4180, Train Acc: 0.9543, Val Loss: 45.5808, Val Acc: 0.0028\n",
      "Epoch 53/100, Train Loss: 17.3961, Train Acc: 0.9563, Val Loss: 45.6197, Val Acc: 0.0035\n",
      "Epoch 54/100, Train Loss: 17.3242, Train Acc: 0.9577, Val Loss: 45.5810, Val Acc: 0.0035\n",
      "Epoch 55/100, Train Loss: 17.3256, Train Acc: 0.9555, Val Loss: 45.6479, Val Acc: 0.0028\n",
      "Epoch 56/100, Train Loss: 17.2798, Train Acc: 0.9581, Val Loss: 45.6186, Val Acc: 0.0028\n",
      "Epoch 57/100, Train Loss: 17.1295, Train Acc: 0.9582, Val Loss: 45.6562, Val Acc: 0.0035\n",
      "Epoch 58/100, Train Loss: 17.0955, Train Acc: 0.9588, Val Loss: 45.6517, Val Acc: 0.0035\n",
      "Epoch 59/100, Train Loss: 17.0655, Train Acc: 0.9591, Val Loss: 45.6678, Val Acc: 0.0028\n",
      "Epoch 60/100, Train Loss: 17.0557, Train Acc: 0.9592, Val Loss: 45.6291, Val Acc: 0.0028\n",
      "Epoch 61/100, Train Loss: 17.0199, Train Acc: 0.9617, Val Loss: 45.6443, Val Acc: 0.0028\n",
      "Epoch 62/100, Train Loss: 16.9712, Train Acc: 0.9600, Val Loss: 45.6942, Val Acc: 0.0028\n",
      "Epoch 63/100, Train Loss: 16.9789, Train Acc: 0.9608, Val Loss: 45.6723, Val Acc: 0.0021\n",
      "Epoch 64/100, Train Loss: 16.9628, Train Acc: 0.9612, Val Loss: 45.6720, Val Acc: 0.0028\n",
      "Epoch 65/100, Train Loss: 16.9677, Train Acc: 0.9601, Val Loss: 45.6749, Val Acc: 0.0014\n",
      "Epoch 66/100, Train Loss: 16.9204, Train Acc: 0.9611, Val Loss: 45.6608, Val Acc: 0.0021\n",
      "Epoch 67/100, Train Loss: 16.9165, Train Acc: 0.9616, Val Loss: 45.6811, Val Acc: 0.0028\n",
      "Epoch 68/100, Train Loss: 16.8137, Train Acc: 0.9623, Val Loss: 45.6503, Val Acc: 0.0021\n",
      "Epoch 69/100, Train Loss: 16.8147, Train Acc: 0.9628, Val Loss: 45.6863, Val Acc: 0.0035\n",
      "Epoch 70/100, Train Loss: 16.8290, Train Acc: 0.9631, Val Loss: 45.6982, Val Acc: 0.0035\n",
      "Epoch 71/100, Train Loss: 16.8085, Train Acc: 0.9635, Val Loss: 45.6747, Val Acc: 0.0028\n",
      "Epoch 72/100, Train Loss: 16.7598, Train Acc: 0.9616, Val Loss: 45.7024, Val Acc: 0.0021\n",
      "Epoch 73/100, Train Loss: 16.7833, Train Acc: 0.9625, Val Loss: 45.6866, Val Acc: 0.0028\n",
      "Epoch 74/100, Train Loss: 16.7717, Train Acc: 0.9634, Val Loss: 45.6715, Val Acc: 0.0028\n",
      "Epoch 75/100, Train Loss: 16.7511, Train Acc: 0.9634, Val Loss: 45.6943, Val Acc: 0.0028\n",
      "Epoch 76/100, Train Loss: 16.7638, Train Acc: 0.9626, Val Loss: 45.7340, Val Acc: 0.0028\n",
      "Epoch 77/100, Train Loss: 16.7419, Train Acc: 0.9618, Val Loss: 45.7244, Val Acc: 0.0028\n",
      "Epoch 78/100, Train Loss: 16.7099, Train Acc: 0.9620, Val Loss: 45.7084, Val Acc: 0.0028\n",
      "Epoch 79/100, Train Loss: 16.7019, Train Acc: 0.9627, Val Loss: 45.7200, Val Acc: 0.0021\n",
      "Epoch 80/100, Train Loss: 16.6597, Train Acc: 0.9637, Val Loss: 45.7209, Val Acc: 0.0028\n",
      "Epoch 81/100, Train Loss: 16.6837, Train Acc: 0.9622, Val Loss: 45.7088, Val Acc: 0.0028\n",
      "Epoch 82/100, Train Loss: 16.6802, Train Acc: 0.9633, Val Loss: 45.7017, Val Acc: 0.0028\n",
      "Epoch 83/100, Train Loss: 16.6767, Train Acc: 0.9622, Val Loss: 45.7112, Val Acc: 0.0028\n",
      "Epoch 84/100, Train Loss: 16.6889, Train Acc: 0.9631, Val Loss: 45.6991, Val Acc: 0.0028\n",
      "Epoch 85/100, Train Loss: 16.6545, Train Acc: 0.9632, Val Loss: 45.6926, Val Acc: 0.0028\n",
      "Epoch 86/100, Train Loss: 16.6362, Train Acc: 0.9639, Val Loss: 45.7192, Val Acc: 0.0021\n",
      "Epoch 87/100, Train Loss: 16.6361, Train Acc: 0.9633, Val Loss: 45.7258, Val Acc: 0.0028\n",
      "Epoch 88/100, Train Loss: 16.6509, Train Acc: 0.9642, Val Loss: 45.7160, Val Acc: 0.0028\n",
      "Epoch 89/100, Train Loss: 16.6372, Train Acc: 0.9652, Val Loss: 45.7008, Val Acc: 0.0028\n",
      "Epoch 90/100, Train Loss: 16.6283, Train Acc: 0.9631, Val Loss: 45.7488, Val Acc: 0.0028\n",
      "Epoch 91/100, Train Loss: 16.6297, Train Acc: 0.9632, Val Loss: 45.7261, Val Acc: 0.0028\n",
      "Epoch 92/100, Train Loss: 16.6048, Train Acc: 0.9640, Val Loss: 45.7106, Val Acc: 0.0028\n",
      "Epoch 93/100, Train Loss: 16.5947, Train Acc: 0.9650, Val Loss: 45.7245, Val Acc: 0.0021\n",
      "Epoch 94/100, Train Loss: 16.6170, Train Acc: 0.9641, Val Loss: 45.7254, Val Acc: 0.0028\n",
      "Epoch 95/100, Train Loss: 16.6013, Train Acc: 0.9635, Val Loss: 45.7151, Val Acc: 0.0028\n",
      "Epoch 96/100, Train Loss: 16.6042, Train Acc: 0.9647, Val Loss: 45.7037, Val Acc: 0.0028\n",
      "Epoch 97/100, Train Loss: 16.6088, Train Acc: 0.9643, Val Loss: 45.7146, Val Acc: 0.0028\n",
      "Epoch 98/100, Train Loss: 16.5818, Train Acc: 0.9647, Val Loss: 45.7495, Val Acc: 0.0028\n",
      "Epoch 99/100, Train Loss: 16.5719, Train Acc: 0.9652, Val Loss: 45.7211, Val Acc: 0.0028\n",
      "Epoch 100/100, Train Loss: 16.5822, Train Acc: 0.9646, Val Loss: 45.7275, Val Acc: 0.0028\n"
     ]
    }
   ],
   "source": [
    "import os\n",
    "import torch\n",
    "import matplotlib.pyplot as plt\n",
    "from torch.optim.lr_scheduler import ReduceLROnPlateau\n",
    "\n",
    "\n",
    "checkpoint_dir = './ckpt'\n",
    "os.makedirs(checkpoint_dir, exist_ok=True)\n",
    "\n",
    "# Tạo các list để lưu giá trị\n",
    "train_loss_list = []\n",
    "train_accuracy_list = []\n",
    "val_loss_list = []\n",
    "val_accuracy_list = []\n",
    "lr_list = []\n",
    "\n",
    "\n",
    "scheduler = ReduceLROnPlateau(\n",
    "    optimizer,\n",
    "    mode='min',        \n",
    "    factor=0.5,         \n",
    "    patience=10,              \n",
    "    min_lr=1e-6         \n",
    ")\n",
    "\n",
    "num_epochs = 100\n",
    "\n",
    "for epoch in range(num_epochs):\n",
    "    train_loss, train_acc = train_epoch(model, train_loader, criterion, optimizer, scaler, device)\n",
    "    val_loss, val_acc = validate(model, val_loader, criterion, device)\n",
    "    \n",
    "    # Lưu model checkpoint\n",
    "    checkpoint_path = os.path.join(checkpoint_dir, f'epoch_{epoch+1:02d}.pth')\n",
    "    torch.save({'epoch': epoch + 1,'model_state_dict': model.state_dict(),'optimizer_state_dict': optimizer.state_dict(),\n",
    "\n",
    "}, checkpoint_path)\n",
    "\n",
    "    train_loss_list.append(train_loss)\n",
    "    train_accuracy_list.append(train_acc)\n",
    "    val_loss_list.append(val_loss)\n",
    "    val_accuracy_list.append(val_acc)\n",
    "    lr_list.append(optimizer.param_groups[0]['lr'])\n",
    "\n",
    "    # Cập nhật learning rate\n",
    "    scheduler.step(val_loss)\n",
    "    print(f\"Epoch {epoch+1}/{num_epochs}, \"\n",
    "          f\"Train Loss: {train_loss:.4f}, Train Acc: {train_acc:.4f}, \"\n",
    "          f\"Val Loss: {val_loss:.4f}, Val Acc: {val_acc:.4f}\")"
   ]
  },
  {
   "cell_type": "code",
   "execution_count": 10,
   "id": "19585a05",
   "metadata": {
    "execution": {
     "iopub.execute_input": "2025-06-01T17:49:25.064195Z",
     "iopub.status.busy": "2025-06-01T17:49:25.063938Z",
     "iopub.status.idle": "2025-06-01T17:49:25.629299Z",
     "shell.execute_reply": "2025-06-01T17:49:25.628666Z"
    },
    "papermill": {
     "duration": 0.574333,
     "end_time": "2025-06-01T17:49:25.630844",
     "exception": false,
     "start_time": "2025-06-01T17:49:25.056511",
     "status": "completed"
    },
    "tags": []
   },
   "outputs": [
    {
     "data": {
      "image/png": "[encoded data removed]",
      "text/plain": [
       "<Figure size 1200x500 with 2 Axes>"
      ]
     },
     "metadata": {},
     "output_type": "display_data"
    }
   ],
   "source": [
    "import matplotlib.pyplot as plt\n",
    "\n",
    "epochs = range(1, num_epochs + 1)\n",
    "\n",
    "plt.figure(figsize=(12, 5))\n",
    "\n",
    "# Loss\n",
    "plt.subplot(1, 2, 1)\n",
    "plt.plot(epochs, train_loss_list, 'r-', label='Train Loss')\n",
    "plt.plot(epochs, val_loss_list, 'b-', label='Val Loss')\n",
    "plt.xlabel('Epoch')\n",
    "plt.ylabel('Loss')\n",
    "plt.title('Loss over Epochs')\n",
    "plt.legend()\n",
    "\n",
    "# Accuracy\n",
    "plt.subplot(1, 2, 2)\n",
    "plt.plot(epochs, train_accuracy_list, 'r-', label='Train Accuracy')\n",
    "plt.plot(epochs, val_accuracy_list, 'b-', label='Val Accuracy')\n",
    "plt.xlabel('Epoch')\n",
    "plt.ylabel('Accuracy')\n",
    "plt.title('Accuracy over Epochs')\n",
    "plt.legend()\n",
    "\n",
    "plt.tight_layout()\n",
    "plt.show()\n"
   ]
  },
  {
   "cell_type": "code",
   "execution_count": 11,
   "id": "145ed6d3",
   "metadata": {
    "execution": {
     "iopub.execute_input": "2025-06-01T17:49:25.645979Z",
     "iopub.status.busy": "2025-06-01T17:49:25.645731Z",
     "iopub.status.idle": "2025-06-01T17:49:25.648588Z",
     "shell.execute_reply": "2025-06-01T17:49:25.648129Z"
    },
    "papermill": {
     "duration": 0.011326,
     "end_time": "2025-06-01T17:49:25.649575",
     "exception": false,
     "start_time": "2025-06-01T17:49:25.638249",
     "status": "completed"
    },
    "tags": []
   },
   "outputs": [],
   "source": [
    "# # Load lại checkpoint\n",
    "# checkpoint = torch.load('./ckpt/epoch_100.pth', map_location='cpu')\n",
    "# model.load_state_dict(checkpoint['model_state_dict'])\n",
    "# model.eval()"
   ]
  },
  {
   "cell_type": "code",
   "execution_count": 12,
   "id": "1193cfae",
   "metadata": {
    "execution": {
     "iopub.execute_input": "2025-06-01T17:49:25.663988Z",
     "iopub.status.busy": "2025-06-01T17:49:25.663779Z",
     "iopub.status.idle": "2025-06-01T17:49:25.666973Z",
     "shell.execute_reply": "2025-06-01T17:49:25.666306Z"
    },
    "papermill": {
     "duration": 0.011529,
     "end_time": "2025-06-01T17:49:25.667989",
     "exception": false,
     "start_time": "2025-06-01T17:49:25.656460",
     "status": "completed"
    },
    "tags": []
   },
   "outputs": [],
   "source": [
    "# device = torch.device(\"cuda\" if torch.cuda.is_available() else \"cpu\")\n",
    "# model.to(device)\n",
    "\n",
    "# dummy_input = torch.randn(1, 3, 112, 112).to(device)  # Match device với model\n",
    "# torch.onnx.export(\n",
    "#     model,\n",
    "#     dummy_input,\n",
    "#     \"model.onnx\",\n",
    "#     input_names=[\"input\"],\n",
    "#     output_names=[\"output\"],\n",
    "#     opset_version=11,\n",
    "#     dynamic_axes={\"input\": {0: \"batch_size\"}, \"output\": {0: \"batch_size\"}}\n",
    "# )\n"
   ]
  },
  {
   "cell_type": "code",
   "execution_count": 13,
   "id": "0201d7f3",
   "metadata": {
    "execution": {
     "iopub.execute_input": "2025-06-01T17:49:25.682435Z",
     "iopub.status.busy": "2025-06-01T17:49:25.682241Z",
     "iopub.status.idle": "2025-06-01T17:49:25.685829Z",
     "shell.execute_reply": "2025-06-01T17:49:25.685204Z"
    },
    "papermill": {
     "duration": 0.012151,
     "end_time": "2025-06-01T17:49:25.686960",
     "exception": false,
     "start_time": "2025-06-01T17:49:25.674809",
     "status": "completed"
    },
    "tags": []
   },
   "outputs": [],
   "source": [
    "# import os\n",
    "# import onnx\n",
    "# from onnx_tf.backend import prepare\n",
    "# import tensorflow as tf\n",
    "\n",
    "# device = torch.device('cuda' if torch.cuda.is_available() else 'cpu')\n",
    "\n",
    "# # Đường dẫn lưu các file trung gian và cuối cùng\n",
    "# onnx_path = \"mobilefacenet.onnx\"\n",
    "# tf_model_path = \"mobilefacenet_tf\"\n",
    "# tflite_path = \"mobilefacenet.tflite\"\n",
    "\n",
    "# # 1. Export PyTorch model sang ONNX\n",
    "# model.eval()\n",
    "# dummy_input = torch.randn(1, 3, 112, 112).to(device)\n",
    "# with torch.no_grad():\n",
    "#     torch.onnx.export(model, dummy_input, onnx_path,\n",
    "#                       input_names=['input'], output_names=['output'],\n",
    "#                       opset_version=11, do_constant_folding=True)\n",
    "# print(f\"Đã export model sang ONNX: {onnx_path}\")\n",
    "\n",
    "# # 2. Chuyển ONNX sang TensorFlow SavedModel\n",
    "# onnx_model = onnx.load(onnx_path)\n",
    "# tf_rep = prepare(onnx_model)\n",
    "# if os.path.exists(tf_model_path):\n",
    "#     import shutil\n",
    "#     shutil.rmtree(tf_model_path)\n",
    "# tf_rep.export_graph(tf_model_path)\n",
    "# print(f\"Đã chuyển sang TensorFlow SavedModel tại: {tf_model_path}\")\n",
    "\n",
    "# # 3. Chuyển TensorFlow SavedModel sang TFLite\n",
    "# converter = tf.lite.TFLiteConverter.from_saved_model(tf_model_path)\n",
    "\n",
    "# # Bật tối ưu hóa để thực hiện post-training quantization\n",
    "# converter.optimizations = [tf.lite.Optimize.DEFAULT]\n",
    "# tflite_model = converter.convert()\n",
    "\n",
    "# with open(tflite_path, 'wb') as f:\n",
    "#     f.write(tflite_model)\n",
    "# print(f\"Đã lưu model TFLite tại: {tflite_path}\")"
   ]
  }
 ],
 "metadata": {
  "kaggle": {
   "accelerator": "gpu",
   "dataSources": [
    {
     "datasetId": 7514192,
     "sourceId": 11952082,
     "sourceType": "datasetVersion"
    },
    {
     "datasetId": 7566572,
     "sourceId": 12026362,
     "sourceType": "datasetVersion"
    }
   ],
   "dockerImageVersionId": 31041,
   "isGpuEnabled": true,
   "isInternetEnabled": true,
   "language": "python",
   "sourceType": "notebook"
  },
  "kernelspec": {
   "display_name": "Python 3",
   "language": "python",
   "name": "python3"
  },
  "language_info": {
   "codemirror_mode": {
    "name": "ipython",
    "version": 3
   },
   "file_extension": ".py",
   "mimetype": "text/x-python",
   "name": "python",
   "nbconvert_exporter": "python",
   "pygments_lexer": "ipython3",
   "version": "3.11.11"
  },
  "papermill": {
   "default_parameters": {},
   "duration": 2628.430275,
   "end_time": "2025-06-01T17:49:28.591186",
   "environment_variables": {},
   "exception": null,
   "input_path": "__notebook__.ipynb",
   "output_path": "__notebook__.ipynb",
   "parameters": {},
   "start_time": "2025-06-01T17:05:40.160911",
   "version": "2.6.0"
  }
 },
 "nbformat": 4,
 "nbformat_minor": 5
}
